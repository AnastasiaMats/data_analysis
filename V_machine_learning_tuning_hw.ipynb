{
 "cells": [
  {
   "cell_type": "markdown",
   "metadata": {},
   "source": [
    "## Домашняя работа № 6 - регуляризция"
   ]
  },
  {
   "cell_type": "markdown",
   "metadata": {},
   "source": [
    "### Мацыкина А.С."
   ]
  },
  {
   "cell_type": "markdown",
   "metadata": {},
   "source": [
    "#### Т120-101М-20"
   ]
  },
  {
   "cell_type": "markdown",
   "metadata": {},
   "source": [
    "# Задача на регуляризцию\n",
    "\n",
    "Загрузка данных"
   ]
  },
  {
   "cell_type": "code",
   "execution_count": 5,
   "metadata": {},
   "outputs": [
    {
     "name": "stdout",
     "output_type": "stream",
     "text": [
      "Качество на валидации: 0.119\n",
      "Качество на обучении: 0.052\n"
     ]
    },
    {
     "name": "stderr",
     "output_type": "stream",
     "text": [
      "C:\\Users\\UseR\\anaconda3\\lib\\site-packages\\sklearn\\linear_model\\_ridge.py:147: LinAlgWarning: Ill-conditioned matrix (rcond=7.97795e-18): result may not be accurate.\n",
      "  return linalg.solve(A, Xy, sym_pos=True,\n"
     ]
    }
   ],
   "source": [
    "from sklearn.model_selection import train_test_split\n",
    "from sklearn.linear_model import Ridge, Lasso\n",
    "from sklearn.metrics import mean_squared_error\n",
    "import numpy as np\n",
    "import pandas as pd\n",
    "\n",
    "\n",
    "def generate_degrees(source_data: list, degree: int):\n",
    "    \"\"\"Функция, которая принимает на вход одномерный массив, а возвращает n-мерный\n",
    "    Для каждой степени от 1 до  degree возводим x в эту степень\n",
    "    \"\"\"\n",
    "    return np.array([\n",
    "          source_data**n for n in range(1, degree + 1)  \n",
    "    ]).T\n",
    "\n",
    "data = pd.read_csv('data/non_linear.csv', sep=',')\n",
    "data.head()\n",
    "\n",
    "degree = 8\n",
    "X = generate_degrees(data['x_train'], degree)\n",
    "y = data.y_train.values\n",
    "X_train, X_valid, y_train, y_valid = train_test_split(X, y, test_size=0.2, random_state=10)\n",
    "model = Ridge(alpha=0).fit(X_train, y_train)\n",
    "y_pred = model.predict(X_valid)\n",
    "y_pred_train = model.predict(X_train)\n",
    "print(\"Качество на валидации: %.3f\" % mean_squared_error(y_valid, y_pred))\n",
    "print(\"Качество на обучении: %.3f\" % mean_squared_error(y_train, y_pred_train))"
   ]
  },
  {
   "cell_type": "markdown",
   "metadata": {},
   "source": [
    "у класса *Ridge* в конструкторе есть параметр регуляризации - обучите регрессию при $\\alpha=0.01$. \n",
    "\n",
    "Как изменилась ошибка на обучении? Как изменилась ошибка на валидации? Удалось ли победить переобучение? Используйте степень полинома n=12"
   ]
  },
  {
   "cell_type": "code",
   "execution_count": 6,
   "metadata": {},
   "outputs": [
    {
     "name": "stdout",
     "output_type": "stream",
     "text": [
      "Качество на валидации: 0.070\n",
      "Качество на обучении: 0.064\n"
     ]
    }
   ],
   "source": [
    "# -- ВАШ КОД ТУТ --\n",
    "\n",
    "# degree = 8, alpha = 0.01\n",
    "\n",
    "degree = 8\n",
    "\n",
    "# извлекаем признаки\n",
    "X = generate_degrees(data['x_train'], degree)\n",
    "y = data.y_train.values\n",
    "\n",
    "# разделяем на обучающую и валидационную выборку\n",
    "X_train, X_valid, y_train, y_valid = train_test_split(X, y, test_size=0.2, random_state=10)\n",
    "\n",
    "# обучаем модель\n",
    "model = Ridge(alpha = 0.01).fit(X_train, y_train)\n",
    "\n",
    "# получаем предсказания\n",
    "y_pred = model.predict(X_valid)\n",
    "y_pred_train = model.predict(X_train)\n",
    "\n",
    "print(\"Качество на валидации: %.3f\" % mean_squared_error(y_valid, y_pred))\n",
    "print(\"Качество на обучении: %.3f\" % mean_squared_error(y_train, y_pred_train))\n",
    "\n",
    "# ------------------"
   ]
  },
  {
   "cell_type": "code",
   "execution_count": 7,
   "metadata": {},
   "outputs": [
    {
     "name": "stdout",
     "output_type": "stream",
     "text": [
      "Качество на валидации: 0.125\n",
      "Качество на обучении: 0.051\n"
     ]
    }
   ],
   "source": [
    "# degree = 12, alpha = 0\n",
    "\n",
    "degree = 12\n",
    "\n",
    "X = generate_degrees(data['x_train'], degree)\n",
    "y = data.y_train.values\n",
    "\n",
    "X_train, X_valid, y_train, y_valid = train_test_split(X, y, test_size=0.2, random_state=10)\n",
    "\n",
    "model = Ridge(alpha = 0).fit(X_train, y_train)\n",
    "\n",
    "y_pred = model.predict(X_valid)\n",
    "y_pred_train = model.predict(X_train)\n",
    "\n",
    "print(\"Качество на валидации: %.3f\" % mean_squared_error(y_valid, y_pred))\n",
    "print(\"Качество на обучении: %.3f\" % mean_squared_error(y_train, y_pred_train))"
   ]
  },
  {
   "cell_type": "code",
   "execution_count": 8,
   "metadata": {},
   "outputs": [
    {
     "name": "stdout",
     "output_type": "stream",
     "text": [
      "Качество на валидации: 0.077\n",
      "Качество на обучении: 0.058\n"
     ]
    },
    {
     "name": "stderr",
     "output_type": "stream",
     "text": [
      "C:\\Users\\UseR\\anaconda3\\lib\\site-packages\\sklearn\\linear_model\\_ridge.py:147: LinAlgWarning: Ill-conditioned matrix (rcond=5.81468e-22): result may not be accurate.\n",
      "  return linalg.solve(A, Xy, sym_pos=True,\n"
     ]
    }
   ],
   "source": [
    "# degree = 12, alpha = 0.01\n",
    "\n",
    "degree = 12\n",
    "\n",
    "X = generate_degrees(data['x_train'], degree)\n",
    "y = data.y_train.values\n",
    "\n",
    "X_train, X_valid, y_train, y_valid = train_test_split(X, y, test_size=0.2, random_state=10)\n",
    "\n",
    "model = Ridge(alpha = 0.01).fit(X_train, y_train)\n",
    "\n",
    "y_pred = model.predict(X_valid)\n",
    "y_pred_train = model.predict(X_train)\n",
    "\n",
    "print(\"Качество на валидации: %.3f\" % mean_squared_error(y_valid, y_pred))\n",
    "print(\"Качество на обучении: %.3f\" % mean_squared_error(y_train, y_pred_train))"
   ]
  },
  {
   "cell_type": "markdown",
   "metadata": {},
   "source": [
    "При **degree = 8** ошибка на обучении растет, если alpha изменить на 0.01, а ошибка на валидации падает\n",
    "\n",
    "При **degree = 12** ошибка на обучении тоже растет, если alpha изменить на 0.01, а ошибка на валидации падает\n",
    "\n",
    "Не удалось переобучить"
   ]
  },
  {
   "cell_type": "markdown",
   "metadata": {},
   "source": [
    "### Домашняя работа: Lasso vs Ridge\n",
    "\n",
    "На данных из файла `data/non_linear.csv`\n",
    "* сгенерируйте данные до степени *degree = 8* включительно\n",
    "* обучите модель `sklearn.linear_model.Lasso` и модель `sklearn.linear_model.Ridge` на полученных данных\n",
    "* используйте коэффициент регуляризации $\\alpha=0.8$ для обеих моделей\n",
    "* постройте два столбчатых графика, на которых отобразите величину коэффициентов в для Ridge регрессии и Lasso регрессии виде столбиков"
   ]
  },
  {
   "cell_type": "markdown",
   "metadata": {},
   "source": [
    "Пример графиков для 3-й степени (просто для примера, у вас может по-другому выглядеть). Какой можно сделать в вывод по величине коэффициентов?:\n",
    "![coeff_example](img/coeff_example.png)"
   ]
  },
  {
   "cell_type": "code",
   "execution_count": 58,
   "metadata": {},
   "outputs": [
    {
     "name": "stdout",
     "output_type": "stream",
     "text": [
      "Коэффициенты Lasso:\n",
      "1.6842772269274797\n",
      "-0.0\n",
      "-0.0\n",
      "-0.010829960120060371\n",
      "-0.00952247248825283\n",
      "0.0010349017895392011\n",
      "0.00018787224989761365\n",
      "3.3878531820096257e-06\n",
      "-2.148382847188432e-06\n",
      "\n",
      "Коэффициенты Ridge:\n",
      "1.1300104311484804\n",
      "0.4542617851089683\n",
      "0.34197683261398387\n",
      "0.03275820907218982\n",
      "-0.20713453269887322\n",
      "0.036321631954719984\n",
      "0.01181941163309684\n",
      "-0.0036803193238157074\n",
      "0.00026358552106505427\n"
     ]
    },
    {
     "name": "stderr",
     "output_type": "stream",
     "text": [
      "C:\\Users\\UseR\\anaconda3\\lib\\site-packages\\sklearn\\linear_model\\_coordinate_descent.py:529: ConvergenceWarning: Objective did not converge. You might want to increase the number of iterations. Duality gap: 3.7134369621139327, tolerance: 0.0024481555784964045\n",
      "  model = cd_fast.enet_coordinate_descent(\n"
     ]
    },
    {
     "data": {
      "text/plain": [
       "<matplotlib.legend.Legend at 0x214a00683d0>"
      ]
     },
     "execution_count": 58,
     "metadata": {},
     "output_type": "execute_result"
    },
    {
     "data": {
      "image/png": "[encoded data removed]",
      "text/plain": [
       "<Figure size 432x288 with 1 Axes>"
      ]
     },
     "metadata": {
      "needs_background": "light"
     },
     "output_type": "display_data"
    }
   ],
   "source": [
    "# -- ВАШ КОД ТУТ ---\n",
    "from sklearn.model_selection import train_test_split\n",
    "from sklearn.linear_model import Ridge, Lasso\n",
    "import matplotlib.pyplot as plt\n",
    "\n",
    "degree = 8\n",
    "\n",
    "X = generate_degrees(data['x_train'], degree)\n",
    "y = data.y_train.values\n",
    "X_train, X_valid, y_train, y_valid = train_test_split(X, y, test_size=0.2, random_state=10)\n",
    "\n",
    "ridge_model = Ridge(alpha=0.8).fit(X_train, y_train)\n",
    "lasso_model = Lasso(alpha=0.8).fit(X_train, y_train)\n",
    "\n",
    "w_ridge = np.append([ridge_model.intercept_], ridge_model.coef_)\n",
    "w_lasso = np.append([lasso_model.intercept_], lasso_model.coef_)\n",
    "\n",
    "x = np.arange(degree)\n",
    "plt.hist(w_ridge, bins=10, alpha=0.5, label='Ridge')\n",
    "plt.hist(w_lasso, bins=10, alpha=0.5, label='Lasso')\n",
    "\n",
    "\n",
    "print('Коэффициенты Lasso:', *w_lasso, sep='\\n')\n",
    "print()\n",
    "print('Коэффициенты Ridge:', *w_ridge, sep='\\n')\n",
    "      \n",
    "\n",
    "plt.legend()\n",
    "\n",
    "\n",
    "# ------------------"
   ]
  },
  {
   "cell_type": "markdown",
   "metadata": {},
   "source": [
    "Коэффициенты близки к нулю"
   ]
  },
  {
   "cell_type": "markdown",
   "metadata": {
    "slideshow": {
     "slide_type": "slide"
    }
   },
   "source": [
    "# Домашнее задание: пишем Ridge регрессию.\n",
    "\n",
    "Мы использовали реализацию Ridge регрессию из библиотеки sklearn. Для того, чтобы  прокачать навыки программирования и освежить в памяти, как перемножать матрицы в numpy, напишите код для вычисления коэффициентов полиномиальной регрессии (для степени *degree=8*) с регуляризацией по формуле\n",
    "$$\n",
    "\\overline{w} = \\left(X^TX + \\lambda E\\right)^{-1}X^T\\overline{y}\n",
    "$$\n",
    "\n",
    "Для примера можно ориентироваться на то, как была реализована аналитическая формула для линейной регрессии в модуле \"Линейная регрессия. Часть I\"\n",
    "\n",
    "Единичную матрицу $E$ можно получить с помощью функции https://docs.scipy.org/doc/numpy/reference/generated/numpy.eye.html . Размерность матрицы $k\\times k$ (по количеству коэффициентов линейной регрессии). Напоминаю, что количество коэффициентов регрессии совпадает с количеством фичей регрессии, в задании будет $k=8$, т.к. генерим признаки для полинома восьмой степени."
   ]
  },
  {
   "cell_type": "code",
   "execution_count": 68,
   "metadata": {},
   "outputs": [
    {
     "name": "stdout",
     "output_type": "stream",
     "text": [
      "Аналитически определённые коэффициенты [ 0.51152727  0.40716153  0.22421288 -0.04867427 -0.17822689  0.08659551\n",
      " -0.01446891  0.00083008]\n"
     ]
    }
   ],
   "source": [
    "# -- ВАШ КОД ТУТ --\n",
    "from numpy.linalg import inv, norm\n",
    "import numpy as np\n",
    "from sklearn.linear_model import LinearRegression\n",
    "from scipy.spatial import distance\n",
    "\n",
    "\n",
    "degree = 8\n",
    "k = 8\n",
    "\n",
    "X = generate_degrees(data['x_train'], degree)\n",
    "y = data.y_train.values\n",
    "E = np.eye(k)\n",
    "\n",
    "\n",
    "X_train, X_valid, y_train, y_valid = train_test_split(X, y, test_size=0.2, random_state=10)\n",
    "\n",
    "X = X_train\n",
    "y = y_train\n",
    "\n",
    "w_analytic = np.linalg.inv(X.T.dot(X) + k*E).dot(X.T).dot(y)\n",
    "\n",
    "print(f'Аналитически определённые коэффициенты {w_analytic}')\n",
    "# -----------------"
   ]
  },
  {
   "cell_type": "markdown",
   "metadata": {
    "slideshow": {
     "slide_type": "slide"
    }
   },
   "source": [
    "# Домашнее задание: подбираем шаг градиентного спуска \n",
    "\n",
    "Очевидно, что чем больше шаг градиентного спуска (параметр *eta0* класса *SGDRegressor*), тем быстрее мы придём к оптимальным значениям. Используя под выше, поиграйтесь с параметром *eta0* и добейтесь , чтобы градиентный спуск закончился быстрее, чем за 200 шагов.\n",
    "\n",
    "Сколько шагов у вас получилось? Какое качество *RMSE* у Вашего решения? Визуализируйте функцию потерь"
   ]
  },
  {
   "cell_type": "code",
   "execution_count": 69,
   "metadata": {},
   "outputs": [
    {
     "data": {
      "text/html": [
       "<div>\n",
       "<style scoped>\n",
       "    .dataframe tbody tr th:only-of-type {\n",
       "        vertical-align: middle;\n",
       "    }\n",
       "\n",
       "    .dataframe tbody tr th {\n",
       "        vertical-align: top;\n",
       "    }\n",
       "\n",
       "    .dataframe thead th {\n",
       "        text-align: right;\n",
       "    }\n",
       "</style>\n",
       "<table border=\"1\" class=\"dataframe\">\n",
       "  <thead>\n",
       "    <tr style=\"text-align: right;\">\n",
       "      <th></th>\n",
       "      <th>x_train</th>\n",
       "      <th>y_train</th>\n",
       "    </tr>\n",
       "  </thead>\n",
       "  <tbody>\n",
       "    <tr>\n",
       "      <th>5</th>\n",
       "      <td>1.182421</td>\n",
       "      <td>1.860341</td>\n",
       "    </tr>\n",
       "    <tr>\n",
       "      <th>6</th>\n",
       "      <td>1.251605</td>\n",
       "      <td>1.878928</td>\n",
       "    </tr>\n",
       "    <tr>\n",
       "      <th>7</th>\n",
       "      <td>1.270474</td>\n",
       "      <td>2.430015</td>\n",
       "    </tr>\n",
       "    <tr>\n",
       "      <th>8</th>\n",
       "      <td>1.402553</td>\n",
       "      <td>2.327856</td>\n",
       "    </tr>\n",
       "    <tr>\n",
       "      <th>9</th>\n",
       "      <td>1.427711</td>\n",
       "      <td>2.203649</td>\n",
       "    </tr>\n",
       "  </tbody>\n",
       "</table>\n",
       "</div>"
      ],
      "text/plain": [
       "    x_train   y_train\n",
       "5  1.182421  1.860341\n",
       "6  1.251605  1.878928\n",
       "7  1.270474  2.430015\n",
       "8  1.402553  2.327856\n",
       "9  1.427711  2.203649"
      ]
     },
     "execution_count": 69,
     "metadata": {},
     "output_type": "execute_result"
    }
   ],
   "source": [
    "# -- ВАШ КОД ТУТ --\n",
    "\n",
    "import numpy as np\n",
    "import pandas as pd\n",
    "import matplotlib.pyplot as plt\n",
    "# для регрессии\n",
    "from sklearn.model_selection import train_test_split\n",
    "from sklearn.linear_model import SGDRegressor\n",
    "from sklearn.metrics import mean_squared_error\n",
    "from scipy.spatial import distance\n",
    "%matplotlib inline\n",
    "\n",
    "data = pd.read_csv('data/non_linear.csv', sep=',')\n",
    "data = data[(data.x_train > 1) & (data.x_train < 5)].copy()\n",
    "\n",
    "X = data['x_train'].values.reshape(-1, 1) # превращаем X из простого массива в вектор-столбец\n",
    "y = data['y_train'].values\n",
    "\n",
    "# разбиваем на трейн и валидацию\n",
    "X_train, X_valid, y_train, y_valid = train_test_split(X, y, test_size=0.2, random_state=10)\n",
    "\n",
    "data.head()\n",
    "\n",
    "# ----------------"
   ]
  },
  {
   "cell_type": "code",
   "execution_count": 90,
   "metadata": {},
   "outputs": [],
   "source": [
    "def step_sgd(X_train, \n",
    "                   y_train, \n",
    "                   X_valid,\n",
    "                   y_valid,\n",
    "                   rand_state:int, \n",
    "                   eps:float, \n",
    "                   eta:float\n",
    "                  ):\n",
    "    \n",
    "    \n",
    "    # можно установить None для эксперимента\n",
    "\n",
    "    rand_state = rand_state\n",
    "\n",
    "    sgd_regressor = SGDRegressor(\n",
    "        learning_rate='constant',\n",
    "        eta0=eta,\n",
    "        fit_intercept=True,\n",
    "        random_state=rand_state\n",
    "    )\n",
    "\n",
    "    # инициализация весов случайным образом\n",
    "    w_current = np.random.random(2)\n",
    "    epsilon = eps\n",
    "\n",
    "    # изменения весов и ошибка на валидации\n",
    "    weight_evolution, rmse_evolution = [], []\n",
    "\n",
    "    for step in list(range(800)):\n",
    "        # шаг градиентного спуска\n",
    "        sgd_regressor = sgd_regressor.partial_fit(X_train, y_train)\n",
    "        # отслеживаем изменения весов\n",
    "        weight_evolution.append(\n",
    "            distance.euclidean(w_current, sgd_regressor.coef_)\n",
    "        )\n",
    "        # проверяем критерий остановки\n",
    "        if weight_evolution[-1] < epsilon:\n",
    "            print(\"Итарации остановлены на шаге %d\" % step); break\n",
    "        rmse_evolution.append(\n",
    "            mean_squared_error(y_valid, sgd_regressor.predict(X_valid))\n",
    "        )\n",
    "        # обновление весов регрессии\n",
    "        w_current = sgd_regressor.coef_.copy()\n",
    "    \n",
    "    return sgd_regressor, rmse_evolution, step"
   ]
  },
  {
   "cell_type": "code",
   "execution_count": 95,
   "metadata": {},
   "outputs": [
    {
     "name": "stdout",
     "output_type": "stream",
     "text": [
      "Итарации остановлены на шаге 208\n",
      "Итарации остановлены на шаге 148\n",
      "Итарации остановлены на шаге 116\n",
      "Итарации остановлены на шаге 96\n",
      "Итарации остановлены на шаге 83\n",
      "Итарации остановлены на шаге 73\n",
      "Итарации остановлены на шаге 66\n",
      "Итарации остановлены на шаге 60\n",
      "Итарации остановлены на шаге 56\n",
      "Итарации остановлены на шаге 52\n",
      "\n",
      " Наименьший шаг: 52 с eta 0.050\n"
     ]
    }
   ],
   "source": [
    "etas = np.linspace(0.009, 0.05, num=10)\n",
    "res = {}\n",
    "\n",
    "for eta in etas:\n",
    "    sgd_regressor, rmse_evolution, step =  step_sgd(\n",
    "        X_train, y_train, X_valid, y_valid, \n",
    "        rand_state=42, eps=0.0001, eta=eta\n",
    "    )\n",
    "    res[eta] = [sgd_regressor, rmse_evolution, step]\n",
    "    \n",
    "min_res = min(res.items(), key=lambda item:item[1][-1])\n",
    "eta, (sgd_regressor, rmse_evolution, step) = min_res\n",
    "\n",
    "print('\\n',f\"Наименьший шаг: {step} с eta {eta:.3f}\")"
   ]
  },
  {
   "cell_type": "code",
   "execution_count": 99,
   "metadata": {},
   "outputs": [
    {
     "data": {
      "text/plain": [
       "[<matplotlib.lines.Line2D at 0x214a1d86370>]"
      ]
     },
     "execution_count": 99,
     "metadata": {},
     "output_type": "execute_result"
    },
    {
     "data": {
      "image/png": "[encoded data removed]",
      "text/plain": [
       "<Figure size 432x288 with 1 Axes>"
      ]
     },
     "metadata": {
      "needs_background": "light"
     },
     "output_type": "display_data"
    }
   ],
   "source": [
    "plt.plot(range(step), rmse_evolution)"
   ]
  },
  {
   "cell_type": "markdown",
   "metadata": {
    "slideshow": {
     "slide_type": "slide"
    }
   },
   "source": [
    "# Домашнее задание: SGD на многомерных данных\n",
    "\n",
    "Примените градиентный спуск к задаче прогнозирования цен на недвижимость в Бостоне. Какого качества на валидации удалось достичь по r2-score? Сколько итераций  понадобилось?"
   ]
  },
  {
   "cell_type": "code",
   "execution_count": 107,
   "metadata": {},
   "outputs": [
    {
     "data": {
      "text/plain": [
       "(89, -0.4178797019344431)"
      ]
     },
     "execution_count": 107,
     "metadata": {},
     "output_type": "execute_result"
    }
   ],
   "source": [
    "from sklearn.datasets import load_boston\n",
    "from sklearn.metrics import r2_score\n",
    "\n",
    "boston_dataset = load_boston()\n",
    "\n",
    "X = boston_dataset.data\n",
    "y = boston_dataset.target\n",
    "\n",
    "X_train, X_test, y_train, y_test = train_test_split(X, y, test_size=0.2, random_state=10)\n",
    "\n",
    "# -- ВАШ КОД ТУТ --\n",
    "\n",
    "\n",
    "reg = SGDRegressor(random_state=42).fit(X_train, y_train)\n",
    "reg.n_iter_, r2_score(reg.predict(X_test), y_test)\n",
    "\n",
    "\n",
    "# -----------------"
   ]
  },
  {
   "cell_type": "markdown",
   "metadata": {
    "slideshow": {
     "slide_type": "slide"
    }
   },
   "source": [
    "# Домашняя работа: добавляем регуляризацию в SGD\n",
    "\n",
    "В реализацию функции `gradient` добавьте параметр $\\lambda$, чтобы получить регуляризованный градиентный спуск\n",
    "\n",
    "Формула поменяется следующим образом:\n",
    "$$\n",
    "\\left\\{\n",
    "\\begin{array}{cc}\n",
    "\\frac{\\partial L}{\\partial w_0} = \\frac{2}{n}\\cdot(-1)\\cdot \\sum_{i=1}^{n} 1\\cdot \\left(y_i - \\sum_{j=1}^{m}w_jx_j^i + 2\\cdot 1\\right)&\\\\\n",
    "\\frac{\\partial L}{\\partial w_k} = \\frac{2}{n}\\cdot(-1)\\cdot \\sum_{i=1}^{n} x_k^i \\cdot\\left(y_i - \\sum_{j=1}^{m}w_jx_j^i + 2x_k\\right)& k\\neq 0 \\\\\n",
    "\\end{array}\n",
    "\\right.\n",
    "$$"
   ]
  },
  {
   "cell_type": "markdown",
   "metadata": {
    "slideshow": {
     "slide_type": "slide"
    }
   },
   "source": [
    "В этом модуле мы узнали, как  обучать линейную регрессию, не \"упираясь\" в аппаратные ресурсы: использовать градиентный спуск.\n",
    "Мы узнали, как детектировать переобучение модели и закрепили свои знания на примере полиномиальной регрессии и выяснили, как увеличить качество решения с помощью механизма регуляризации. Познакомились с двумя видами регуляризации -  Ridge и Lasso."
   ]
  },
  {
   "cell_type": "markdown",
   "metadata": {},
   "source": [
    "Загружаем исходные данные"
   ]
  },
  {
   "cell_type": "code",
   "execution_count": 108,
   "metadata": {},
   "outputs": [
    {
     "data": {
      "text/html": [
       "<div>\n",
       "<style scoped>\n",
       "    .dataframe tbody tr th:only-of-type {\n",
       "        vertical-align: middle;\n",
       "    }\n",
       "\n",
       "    .dataframe tbody tr th {\n",
       "        vertical-align: top;\n",
       "    }\n",
       "\n",
       "    .dataframe thead th {\n",
       "        text-align: right;\n",
       "    }\n",
       "</style>\n",
       "<table border=\"1\" class=\"dataframe\">\n",
       "  <thead>\n",
       "    <tr style=\"text-align: right;\">\n",
       "      <th></th>\n",
       "      <th>x_train</th>\n",
       "      <th>y_train</th>\n",
       "    </tr>\n",
       "  </thead>\n",
       "  <tbody>\n",
       "    <tr>\n",
       "      <th>5</th>\n",
       "      <td>1.182421</td>\n",
       "      <td>1.860341</td>\n",
       "    </tr>\n",
       "    <tr>\n",
       "      <th>6</th>\n",
       "      <td>1.251605</td>\n",
       "      <td>1.878928</td>\n",
       "    </tr>\n",
       "    <tr>\n",
       "      <th>7</th>\n",
       "      <td>1.270474</td>\n",
       "      <td>2.430015</td>\n",
       "    </tr>\n",
       "    <tr>\n",
       "      <th>8</th>\n",
       "      <td>1.402553</td>\n",
       "      <td>2.327856</td>\n",
       "    </tr>\n",
       "    <tr>\n",
       "      <th>9</th>\n",
       "      <td>1.427711</td>\n",
       "      <td>2.203649</td>\n",
       "    </tr>\n",
       "  </tbody>\n",
       "</table>\n",
       "</div>"
      ],
      "text/plain": [
       "    x_train   y_train\n",
       "5  1.182421  1.860341\n",
       "6  1.251605  1.878928\n",
       "7  1.270474  2.430015\n",
       "8  1.402553  2.327856\n",
       "9  1.427711  2.203649"
      ]
     },
     "execution_count": 108,
     "metadata": {},
     "output_type": "execute_result"
    }
   ],
   "source": [
    "import numpy as np\n",
    "import pandas as pd\n",
    "\n",
    "data = pd.read_csv('data/non_linear.csv', sep=',')\n",
    "data = data[(data.x_train > 1) & (data.x_train < 5)].copy()\n",
    "data.head()"
   ]
  },
  {
   "cell_type": "markdown",
   "metadata": {},
   "source": [
    "Код для SGD"
   ]
  },
  {
   "cell_type": "code",
   "execution_count": 116,
   "metadata": {},
   "outputs": [
    {
     "name": "stdout",
     "output_type": "stream",
     "text": [
      "step 100 |w-w_next|=0.04600, grad=[ 5.52464135 -1.59595905]\n",
      "step 200 |w-w_next|=0.03786, grad=[ 4.54636994 -1.31335584]\n",
      "step 300 |w-w_next|=0.03115, grad=[ 3.74132515 -1.08079441]\n",
      "step 400 |w-w_next|=0.02564, grad=[ 3.07883301 -0.88941361]\n",
      "step 500 |w-w_next|=0.02110, grad=[ 2.53365113 -0.73192141]\n",
      "step 600 |w-w_next|=0.01736, grad=[ 2.0850069  -0.60231702]\n",
      "step 700 |w-w_next|=0.01429, grad=[ 1.71580598 -0.49566222]\n",
      "step 800 |w-w_next|=0.01176, grad=[ 1.41198102 -0.40789323]\n",
      "step 900 |w-w_next|=0.00968, grad=[ 1.16195561 -0.33566586]\n",
      "step 1000 |w-w_next|=0.00796, grad=[ 0.95620326 -0.2762281 ]\n",
      "step 1100 |w-w_next|=0.00655, grad=[ 0.78688434 -0.22731523]\n",
      "step 1200 |w-w_next|=0.00539, grad=[ 0.64754743 -0.18706357]\n",
      "step 1300 |w-w_next|=0.00444, grad=[ 0.53288349 -0.15393944]\n",
      "step 1400 |w-w_next|=0.00365, grad=[ 0.43852357 -0.12668074]\n",
      "step 1500 |w-w_next|=0.00301, grad=[ 0.36087236 -0.10424885]\n",
      "step 1600 |w-w_next|=0.00247, grad=[ 0.29697118 -0.08578907]\n",
      "step 1700 |w-w_next|=0.00204, grad=[ 0.24438525 -0.07059804]\n",
      "step 1800 |w-w_next|=0.00167, grad=[ 0.20111093 -0.05809695]\n",
      "step 1900 |w-w_next|=0.00138, grad=[ 0.16549937 -0.04780948]\n",
      "step 2000 |w-w_next|=0.00113, grad=[ 0.1361937  -0.03934365]\n"
     ]
    }
   ],
   "source": [
    "from scipy.spatial import distance\n",
    "import numpy as np\n",
    "import matplotlib.pyplot as plt\n",
    "%matplotlib inline\n",
    "\n",
    "def gradient(X, y, w, alpha=0) -> np.array:\n",
    "    # количество обучающих примеров в выборке\n",
    "    n = X.shape[0]\n",
    "    # считаем прогноз\n",
    "    y_hat = X.dot(w.T)\n",
    "    # вычисляем ошибку прогноза\n",
    "    #error = y - y_hat\n",
    "    error = (y - y_hat) + 2 * X\n",
    "    # дальше pointwise перемножение - умножаем каждую из координат на ошибку\n",
    "    pointwise_errors = np.multiply(X, error) + X\n",
    "    # print(pointwise_errors.shape, X.shape, error.shape)\n",
    "    grad = pointwise_errors.sum(axis=0)*(-1.0)*2.0 / n\n",
    "    return grad, error\n",
    "\n",
    "def eval_w_next(X, y, eta, w_current):\n",
    "    # вычисляем градиент\n",
    "    grad, error = gradient(X, y, w_current)\n",
    "    # делаем шаг градиентного спуска\n",
    "    w_next = w_current - eta*grad\n",
    "    # проверяем условие сходимости\n",
    "    weight_evolution = distance.euclidean(w_current, w_next)\n",
    "    return (w_next, weight_evolution, grad)\n",
    "\n",
    "def gradient_descent(X: np.array, y: np.array, eta=0.01, epsilon=0.001) -> np.array:\n",
    "    m = X.shape[1] # количество фичей\n",
    "    # инициализируем рандомом веса\n",
    "    w = np.random.random(m).reshape(1, -1)\n",
    "    w_next, weight_evolution, grad = eval_w_next(X, y, eta, w)\n",
    "    step = 0\n",
    "    # повторяем до сходимости вектора весов\n",
    "    while weight_evolution > epsilon:\n",
    "        w = w_next\n",
    "        w_next, weight_evolution, grad = eval_w_next(X, y, eta, w)\n",
    "        step += 1\n",
    "        if step % 100 ==0:\n",
    "            print(\"step %s |w-w_next|=%.5f, grad=%s\" % (step, weight_evolution, grad))\n",
    "    return w\n",
    "\n",
    "# трансформируем плоский массив X в вектор-столбец\n",
    "X = data['x_train'].values.reshape(-1, 1)\n",
    "n = X.shape[0]\n",
    "# добавляем тривиальный признак w_0, столбец из единиц. См. прошлый урок, почему так\n",
    "X = np.hstack([\n",
    "    np.ones(n).reshape(-1,1),\n",
    "    X\n",
    "])\n",
    "w = gradient_descent(X, data['y_train'].values.reshape(-1, 1), eta=0.008)"
   ]
  },
  {
   "cell_type": "markdown",
   "metadata": {},
   "source": [
    "# Домашнее задание: извлечение признаков из текста\n",
    "\n",
    "Реализуем пайплайн в виде функции, при помощи которой обработаем все текстовые описания. Для каждого описания\n",
    "* проводим токенизацию\n",
    "* удаляем пунктуацию\n",
    "* приводим к нижнему регистру\n",
    "* удаляем стоп-слова\n",
    "\n",
    "\n",
    "Примените процедуру токенизации к файлу brand_tweets_valid.csv\n",
    "\n",
    "Сколько уникальных токенов получилось?"
   ]
  },
  {
   "cell_type": "code",
   "execution_count": 2,
   "metadata": {},
   "outputs": [
    {
     "name": "stdout",
     "output_type": "stream",
     "text": [
      "(3904, 3)\n"
     ]
    },
    {
     "name": "stderr",
     "output_type": "stream",
     "text": [
      "[nltk_data] Downloading package punkt to ....\n",
      "[nltk_data]   Package punkt is already up-to-date!\n"
     ]
    },
    {
     "data": {
      "text/html": [
       "<div>\n",
       "<style scoped>\n",
       "    .dataframe tbody tr th:only-of-type {\n",
       "        vertical-align: middle;\n",
       "    }\n",
       "\n",
       "    .dataframe tbody tr th {\n",
       "        vertical-align: top;\n",
       "    }\n",
       "\n",
       "    .dataframe thead th {\n",
       "        text-align: right;\n",
       "    }\n",
       "</style>\n",
       "<table border=\"1\" class=\"dataframe\">\n",
       "  <thead>\n",
       "    <tr style=\"text-align: right;\">\n",
       "      <th></th>\n",
       "      <th>tweet_text</th>\n",
       "      <th>emotion_in_tweet_is_directed_at</th>\n",
       "      <th>is_there_an_emotion_directed_at_a_brand_or_product</th>\n",
       "    </tr>\n",
       "  </thead>\n",
       "  <tbody>\n",
       "    <tr>\n",
       "      <th>0</th>\n",
       "      <td>.@wesley83 I have a 3G iPhone. After 3 hrs twe...</td>\n",
       "      <td>iPhone</td>\n",
       "      <td>Negative emotion</td>\n",
       "    </tr>\n",
       "    <tr>\n",
       "      <th>1</th>\n",
       "      <td>@jessedee Know about @fludapp ? Awesome iPad/i...</td>\n",
       "      <td>iPad or iPhone App</td>\n",
       "      <td>Positive emotion</td>\n",
       "    </tr>\n",
       "    <tr>\n",
       "      <th>2</th>\n",
       "      <td>@swonderlin Can not wait for #iPad 2 also. The...</td>\n",
       "      <td>iPad</td>\n",
       "      <td>Positive emotion</td>\n",
       "    </tr>\n",
       "    <tr>\n",
       "      <th>3</th>\n",
       "      <td>@sxsw I hope this year's festival isn't as cra...</td>\n",
       "      <td>iPad or iPhone App</td>\n",
       "      <td>Negative emotion</td>\n",
       "    </tr>\n",
       "    <tr>\n",
       "      <th>4</th>\n",
       "      <td>@sxtxstate great stuff on Fri #SXSW: Marissa M...</td>\n",
       "      <td>Google</td>\n",
       "      <td>Positive emotion</td>\n",
       "    </tr>\n",
       "  </tbody>\n",
       "</table>\n",
       "</div>"
      ],
      "text/plain": [
       "                                          tweet_text  \\\n",
       "0  .@wesley83 I have a 3G iPhone. After 3 hrs twe...   \n",
       "1  @jessedee Know about @fludapp ? Awesome iPad/i...   \n",
       "2  @swonderlin Can not wait for #iPad 2 also. The...   \n",
       "3  @sxsw I hope this year's festival isn't as cra...   \n",
       "4  @sxtxstate great stuff on Fri #SXSW: Marissa M...   \n",
       "\n",
       "  emotion_in_tweet_is_directed_at  \\\n",
       "0                          iPhone   \n",
       "1              iPad or iPhone App   \n",
       "2                            iPad   \n",
       "3              iPad or iPhone App   \n",
       "4                          Google   \n",
       "\n",
       "  is_there_an_emotion_directed_at_a_brand_or_product  \n",
       "0                                   Negative emotion  \n",
       "1                                   Positive emotion  \n",
       "2                                   Positive emotion  \n",
       "3                                   Negative emotion  \n",
       "4                                   Positive emotion  "
      ]
     },
     "execution_count": 2,
     "metadata": {},
     "output_type": "execute_result"
    }
   ],
   "source": [
    "import nltk\n",
    "import string\n",
    "import pandas as pd\n",
    "\n",
    "# дополнительный словарь со знаками пунктуации\n",
    "nltk.download('punkt', download_dir='.')\n",
    "\n",
    "df = pd.read_csv('data/brand_tweets.csv', sep=',', encoding='utf8')\n",
    "# удаляем строки, в которых отсутствует текст твита\n",
    "df.drop(df[df.tweet_text.isnull()].index, inplace=True)\n",
    "print(df.shape)\n",
    "\n",
    "df.head()"
   ]
  },
  {
   "cell_type": "code",
   "execution_count": 3,
   "metadata": {},
   "outputs": [
    {
     "name": "stderr",
     "output_type": "stream",
     "text": [
      "[nltk_data] Downloading package stopwords to\n",
      "[nltk_data]     C:\\Users\\UseR\\AppData\\Roaming\\nltk_data...\n",
      "[nltk_data]   Package stopwords is already up-to-date!\n"
     ]
    }
   ],
   "source": [
    "import nltk\n",
    "nltk.download('stopwords')\n",
    "\n",
    "from nltk.corpus import stopwords\n",
    "stop_words = set(stopwords.words('english'))\n",
    "\n",
    "import string"
   ]
  },
  {
   "cell_type": "code",
   "execution_count": 4,
   "metadata": {},
   "outputs": [
    {
     "data": {
      "text/plain": [
       "0    [wesley83, 3g, iphone, 3, hrs, tweeting, rise_...\n",
       "1    [jessedee, know, fludapp, awesome, ipad/iphone...\n",
       "2        [swonderlin, wait, ipad, 2, also, sale, sxsw]\n",
       "3    [sxsw, hope, year, 's, festival, n't, crashy, ...\n",
       "4    [sxtxstate, great, stuff, fri, sxsw, marissa, ...\n",
       "Name: tokenized, dtype: object"
      ]
     },
     "execution_count": 4,
     "metadata": {},
     "output_type": "execute_result"
    }
   ],
   "source": [
    "def tokenize_text(raw_text: str):\n",
    "    \"\"\"Функция для токенизации текста\n",
    "    \n",
    "    :param raw_text: исходная текстовая строка\n",
    "    \"\"\"\n",
    "    filtered_tokens = []\n",
    "    # -- ВАШ КОД ТУТ --\n",
    "    \n",
    "    for token in nltk.word_tokenize(raw_text.lower()):\n",
    "        if token not in string.punctuation and token not in stop_words:\n",
    "            filtered_tokens.append(token)\n",
    "    \n",
    "    # -----------------\n",
    "    return filtered_tokens\n",
    "\n",
    "# применяем функцию в датафрейму с помощью метода .apply()\n",
    "tokenized_tweets= df.tweet_text.apply(tokenize_text)\n",
    "\n",
    "# добавляем новую колонку в исходный датафрейм\n",
    "df = df.assign(\n",
    "    tokenized=tokenized_tweets\n",
    ")\n",
    "\n",
    "df.tokenized.head()"
   ]
  },
  {
   "cell_type": "code",
   "execution_count": 5,
   "metadata": {},
   "outputs": [
    {
     "name": "stdout",
     "output_type": "stream",
     "text": [
      "Кол-во уникальных индексов = 7257\n"
     ]
    }
   ],
   "source": [
    "ans = []\n",
    "\n",
    "for list1 in df.tokenized.tolist():\n",
    "    for word in list1: \n",
    "        if word not in ans:\n",
    "            ans.append(word)\n",
    "print('Кол-во уникальных индексов =', len(ans))"
   ]
  },
  {
   "cell_type": "markdown",
   "metadata": {},
   "source": [
    "# Домашнее задание: поиск дубликатов в тексте\n",
    "\n",
    "Потренируйтесь в нахождении матрицы схожести для валидационного сета\n",
    "\n",
    "загрузите brand_tweets_valid.csv\n",
    "примените объект vectorizer, обученный на датасете brand_tweets.csv (просто скопируйте этот код из урока)\n",
    "примените функцию pairwise_distances к полученной матрице"
   ]
  },
  {
   "cell_type": "code",
   "execution_count": 6,
   "metadata": {},
   "outputs": [
    {
     "data": {
      "text/plain": [
       "(402, 402)"
      ]
     },
     "execution_count": 6,
     "metadata": {},
     "output_type": "execute_result"
    }
   ],
   "source": [
    "import pandas as pd\n",
    "\n",
    "df_valid = pd.read_csv('data/brand_tweets_valid.csv', sep=',', encoding='utf8')\n",
    "# удаляем строки, в которых отсутствует текст твита\n",
    "df_valid.drop(df_valid[df_valid.tweet_text.isnull()].index, inplace=True)\n",
    "\n",
    "# -- ВАШ КОД ТУТ --\n",
    "from sklearn.feature_extraction.text import CountVectorizer\n",
    "\n",
    "# инициализируем объект, который токенизирует наш текст\n",
    "# в качестве единственного аргимента передаём функцию, которую мы написали в Уроке 2\n",
    "# на разбивает каждый документ на токены\n",
    "vectorizer = CountVectorizer(tokenizer=tokenize_text)\n",
    "# применяем наш объект-токенизатор к датафрейму с твитами\n",
    "document_matrix = vectorizer.fit_transform(df_valid.tweet_text.values)\n",
    "# результат - матрица, в которой находятся числа, строк в мастрице столько, сколько документов\n",
    "# а столбцов столько, сколько токенов\n",
    "document_matrix\n",
    "\n",
    "from sklearn.metrics import pairwise_distances\n",
    "\n",
    "tweet_distance = 1-pairwise_distances(document_matrix, metric=\"cosine\")\n",
    "\n",
    "tweet_distance.shape\n",
    "# -----------------"
   ]
  },
  {
   "cell_type": "markdown",
   "metadata": {},
   "source": [
    "* Пользуясь матрицей схожести, полученной на предыдущем этапе, найдите top-5 твитов, похожих на твит валидационного сета с id=14.\n"
   ]
  },
  {
   "cell_type": "code",
   "execution_count": 9,
   "metadata": {},
   "outputs": [
    {
     "name": "stdout",
     "output_type": "stream",
     "text": [
      "Твит с id 14:\n",
      "Popup Apple Store crew has been giving out water to the people in line but they are in street clothes. No Apple logos anywhere yet. #SXSW\n",
      "\n",
      "Топ 5 похожих твитов:\n",
      "\n",
      "haha, awesomely rad iPad app by @madebymany http://bit.ly/hTdFim #hollergram #sxsw\n",
      "\n",
      "#Samsung, #Sony follow #Apple, #HP lead @mention {link} #Austin #atx #SXSW\n",
      "\n",
      "I just noticed DST is coming this weekend. How many iPhone users will be an hour late at SXSW come Sunday morning? #SXSW #iPhone\n",
      "\n",
      "Following #sxsw Tweets on Google Realtime, four platforms on Tweet Deck and listening to panel, realizing I'm spoken to no one here today.\n",
      "\n",
      "#SXSW is just starting, #CTIA is around the corner and #googleio is only a hop skip and a jump from there, good time to be an #android fan\n",
      "\n",
      "Posted up at the DMI House, Intimate Stranger on the stage, they got a restaurant crowd sitting down to deal wif  #sxsw {link}\n",
      "\n"
     ]
    }
   ],
   "source": [
    "# топ 5 твитов\n",
    "import numpy as np\n",
    "\n",
    "source_tweet_index = 14\n",
    "print('Твит с id 14:')\n",
    "print(df_valid.iloc[source_tweet_index].tweet_text)\n",
    "print()\n",
    "\n",
    "sorted_similarity = np.argsort(-tweet_distance[source_tweet_index,:])\n",
    "print('Топ 5 похожих твитов:')\n",
    "print()\n",
    "for i in range(6):\n",
    "    print(df.iloc[sorted_similarity[i]].tweet_text, end='\\n\\n')"
   ]
  },
  {
   "cell_type": "markdown",
   "metadata": {},
   "source": [
    "У вас есть матрица схожести между объектами. Попробуйте решить задачу поиска дубликатов в тексте\n",
    "\n",
    "1. Визуализируйте гистограмму значений в матрице схожести\n"
   ]
  },
  {
   "cell_type": "code",
   "execution_count": 14,
   "metadata": {},
   "outputs": [
    {
     "data": {
      "image/png": "[encoded data removed]",
      "text/plain": [
       "<Figure size 432x288 with 1 Axes>"
      ]
     },
     "metadata": {
      "needs_background": "light"
     },
     "output_type": "display_data"
    }
   ],
   "source": [
    "import matplotlib.pyplot as plt\n",
    "\n",
    "x,y = np.histogram(tweet_distance)\n",
    "plt.hist(y[:-1], y, weights=x)\n",
    "plt.show()"
   ]
  },
  {
   "cell_type": "markdown",
   "metadata": {},
   "source": [
    "2. Напишите функцию на Python, которая принимает индекс твита, пороговое значение (число от $0.0$ до $1.0$) и матрицу схожести, а затем выводит все твиты, схожесть которых больше, чем пороговое значение"
   ]
  },
  {
   "cell_type": "code",
   "execution_count": 31,
   "metadata": {
    "scrolled": true
   },
   "outputs": [
    {
     "name": "stdout",
     "output_type": "stream",
     "text": [
      "Cхожесть: 1.0\n",
      "If I were at #SXSW I could spend it all at the @mention Teaching Theater alone; just look at that schedule: {link}\n",
      "\n",
      "Cхожесть: 0.5118906968889915\n",
      "The new #4sq3 looks like it is going to rock. Update for iPhone and Android should push tonight http://bit.ly/etsbZk #SXSW #KeepAustinWeird\n",
      "\n",
      "Cхожесть: 0.4850712500726658\n",
      "@sxsw I hope this year's festival isn't as crashy as this year's iPhone app. #sxsw\n",
      "\n",
      "Cхожесть: 0.45834924851410563\n",
      "My iPhone and I are both VERY thirsty! #sxsw (@mention Chevy Volt Lounge w/ 16 others) {link}\n",
      "\n",
      "Cхожесть: 0.4244373438135828\n",
      "At #sxsw? @mention / @mention wanna buy you a drink. 7pm at Fado on 4th. {link} Join us!\n",
      "\n",
      "Cхожесть: 0.40422604172722154\n",
      "#technews Apple saves SXSW, set to open pop-up store {link} #Tech_News #Apple #SXSW #tech\n",
      "\n",
      "Cхожесть: 0.38892223413129867\n",
      "google is about search, but local' marissa mayer #sxsw\n",
      "\n",
      "Cхожесть: 0.3834824944236852\n",
      "RT @LaurieShook: I'm looking forward to the #SMCDallas pre #SXSW party Wed., and hoping I'll win an #iPad resulting from my shameless promotion.  #ChevySMC\n",
      "\n",
      "Cхожесть: 0.3757345746510896\n",
      "My iPhone battery can't keep up with my tweets! Thanks Apple.  #SXSW  #precommerce\n",
      "\n",
      "Cхожесть: 0.3757345746510896\n",
      "Q1 Was at #sxsw #sxswi for prep. Amazing pre push locally. Focus on location based. Google owns 10% of the regions billboards. #pr20chat\n",
      "\n",
      "Cхожесть: 0.36563621206356534\n",
      "this will be fun to watch. #ipadmadness RT @mention Apple Opening Pop-Up Store In Austin For SXSW {link} #sxsw\n",
      "\n",
      "Cхожесть: 0.36563621206356534\n",
      "If you're at #sxsw, meet our author, and a host of Android devs, Sat. at 12:30pm, Hilton room 615AB.\n",
      "\n",
      "Cхожесть: 0.3638034375544995\n",
      "Is anyone bringing their iPad vs. their computer to #sxsw?\n",
      "\n",
      "Cхожесть: 0.3540052161969215\n",
      "I believe a few went to Aussies at #sxsw RT @mention iPad 2 Sold Out, 70% Went to New Buyers [REPORT] - {link}\n",
      "\n",
      "Cхожесть: 0.3529411764705883\n",
      "picked up an ipad 2 at the #sxsw pop up  apple store! only 15 minute wait!\n",
      "\n",
      "Cхожесть: 0.35007002100700246\n",
      "‰ЫП@mention &quot;Google before you tweet&quot; is the new &quot;think before you speak.&quot; - Mark Belinsky, #911tweets panel at #SXSW.‰Ыќ\n",
      "\n",
      "Cхожесть: 0.34299717028501764\n",
      "Following #sxsw Tweets on Google Realtime, four platforms on Tweet Deck and listening to panel, realizing I'm spoken to no one here today.\n",
      "\n",
      "Cхожесть: 0.3363363969981562\n",
      "many iPad 2's snapping away at the keynote slides! #sxsw\n",
      "\n",
      "Cхожесть: 0.3363363969981562\n",
      "Love this app! So awesome. RT @mention Must see #android app at #sxsw &quot;Bizzy&quot; {link}\n",
      "\n",
      "Cхожесть: 0.32410186177608225\n",
      "2wks only Apple Store in 6th Austin street is now opened. #sxsw\n",
      "\n",
      "Cхожесть: 0.32338083338177726\n",
      "The Daily Chord - Tuesday, March 8: \n",
      "Hackers discover Google's music serviceStory from Rolling Stone.\n",
      "\n",
      "\n",
      "Mo... {link} #SXSW\n",
      "\n",
      "Cхожесть: 0.32338083338177726\n",
      "iPad news apps 'so last year' at #SXSW {link}\n",
      "\n",
      "Cхожесть: 0.32338083338177726\n",
      "Check out @mention @mention &amp; @mention in line for their iPad 2 in Austin. Power to them! #sxswi #SXSW  {link}\n",
      "\n",
      "Cхожесть: 0.32338083338177726\n",
      "If you're a band at #SXSW and want to share a track with your Audience from stage, use FrostWire for Android if there's Wi-Fi available\n",
      "\n",
      "Cхожесть: 0.3131121455425747\n",
      "{link} RT @mention 1st stop on the #SXSW #Chaos &amp; @mention hunt: Austin Java. Get in the spy game 4 a chance 2 win an iPad!\n",
      "\n",
      "Cхожесть: 0.3131121455425747\n",
      "Base Camp Apple.  #SXSW {link}\n",
      "\n",
      "Cхожесть: 0.30678599553894825\n",
      "attending @mention iPad design headaches #sxsw {link}\n",
      "\n",
      "Cхожесть: 0.30678599553894825\n",
      "A special Apple store: opening at 6th and Congress for SXSW &amp; ipad 2 launch. www.apple.com/retail/thedomain/  #Apple #iPad2 #sxsw #fb\n",
      "\n",
      "Cхожесть: 0.30316953129541624\n",
      "Google to Circle Austin? #sxsw {link}\n",
      "\n",
      "Cхожесть: 0.30316953129541624\n",
      "Wondering about street closures during SXSW? We made a Google Map to show you: {link} #sxsw #austin\n",
      "\n",
      "Cхожесть: 0.30316953129541624\n",
      "is anyone attending to the google &amp; aclu party @mention sxsw? if so could you plz up some pictures? thanks! #sxsw\n",
      "\n",
      "Cхожесть: 0.29704426289300234\n",
      "Spark for #android is up for a #teamandroid award at #SXSW read about it here: {link}\n",
      "\n",
      "Cхожесть: 0.2941176470588236\n",
      "Christian #iPad #iPhone devs I want to talk to u at #sxsw or after -maybe we can wk together on cool app! @mention me\n",
      "\n",
      "Cхожесть: 0.2941176470588235\n",
      "I just noticed DST is coming this weekend. How many iPhone users will be an hour late at SXSW come Sunday morning? #SXSW #iPhone\n",
      "\n",
      "Cхожесть: 0.280056016805602\n",
      "Of course Bing results are good they are Google's:) #SEO #SXSW #qagb\n",
      "\n",
      "Cхожесть: 0.280056016805602\n",
      "Now thats a NEWS :P RT@mention Google to Launch Major New Social Network Called Circles, Possibly Today {link} #sxsw\n",
      "\n",
      "Cхожесть: 0.280056016805602\n",
      "#OMFG! RT @mention Heard about Apple's pop-up store in downtown Austin? Pics are already on Gowalla: {link} #sxsw #iPad2\n",
      "\n",
      "Cхожесть: 0.280056016805602\n",
      "Ready for #SXSW?! Here are some iPhone apps 2 make ur blogging easier | {link} #SXSW #SXSWi\n",
      "\n",
      "Cхожесть: 0.280056016805602\n",
      "New Post: @mention iPhone app makes it easy to connect on all social networks with people you meet  {link} #sxsw\n",
      "\n",
      "Cхожесть: 0.2782074420373286\n",
      "rt ' It's 4 p.m. and the #iPad2 line at the Apple store is longer and wider ‰ЫТ about 250 people! Only one more hour. ' #sxsw\n",
      "\n",
      "Cхожесть: 0.2782074420373286\n",
      "{link} RT @mention &quot;Google before you tweet&quot; is the new &quot;think before you speak.&quot; - Mark Belinsky, #911tweets panel at #SXSW.\n",
      "\n",
      "Cхожесть: 0.2782074420373286\n",
      "You must have this app for your iPad if you are going to #SXSW http://itunes.apple.com/us/app/holler-gram/id420666439?mt=8 #hollergram\n",
      "\n",
      "Cхожесть: 0.2782074420373286\n",
      "#HP opens &quot;Mobile Park&quot;  &amp; Content Incubator at #SXSW  {link}   #Apple  constructs  &quot;pop-up&quot; store  {link}\n",
      "\n",
      "Cхожесть: 0.2782074420373286\n",
      "Must have #SXSW app! RT @mention Lovely review from Forbes for our SXSW iPad app Holler Gram - {link}\n",
      "\n",
      "Cхожесть: 0.2750095491084634\n",
      "There was a guy in line for Apple's pop-up store on Sixth Street in Austin. &quot;I'm that guy,&quot; he told me. #sxsw\n",
      "\n",
      "Cхожесть: 0.2750095491084634\n",
      "Rumors of an Apple store opening for #SXSW at 6th &amp; Congress. All signs point to yes! {link}\n",
      "\n",
      "Cхожесть: 0.2690691175985249\n",
      "Anyone at  #SXSW who bought the new iPad want to sell their older iPad to me?\n",
      "\n",
      "Cхожесть: 0.2690691175985249\n",
      "Need to buy an iPad2 while I'm in Austin at #sxsw. Not sure if I'll need to Q up at an Austin Apple store?\n",
      "\n",
      "Cхожесть: 0.2690691175985249\n",
      "Any #SXSW attendees need a QR code reader for their iPhone? Tweet us an image of you with your badge and the first 5 get Optiscan free!\n",
      "\n",
      "Cхожесть: 0.2592814894208657\n",
      "Nice!  RT @mention Apple opening popup store for iPad launch in downtown Austin during #SXSW {link} via @mention\n",
      "\n",
      "Cхожесть: 0.2592814894208657\n",
      "Having my 2nd cocktail &quot;Texas Snowflake&quot;  ( @mention google it!!) at the #CNNGrill #SxSw\n",
      "\n",
      "Cхожесть: 0.2592814894208657\n",
      "Hey #sxsw #sxswi folks. If you want to learn about security come over to #bsidesaustin {link}\n",
      "\n",
      "Cхожесть: 0.2592814894208657\n",
      "Yeah I'll be there for sure! --&gt;RT @mention @mention @mention check this: {link} #SXSW #google\n",
      "\n",
      "Cхожесть: 0.2592814894208657\n",
      "Fast, Fun &amp; Future: @mention of Google presenting at #sxsw on search, local and mobile\n",
      "\n",
      "Cхожесть: 0.2592814894208657\n",
      "#Smile RT @mention I think Apple's &quot;pop-up store&quot; in Austin would be a lot more interesting if it actually, you know... popped up #sxsw\n",
      "\n",
      "Cхожесть: 0.25724787771376323\n",
      "‰ЫП@mention Apple store downtown Austin open til Midnight. #sxsw‰Ыќ @mention there's still time :)\n",
      "\n",
      "Cхожесть: 0.25724787771376323\n",
      "Posted up at the DMI House, Intimate Stranger on the stage, they got a restaurant crowd sitting down to deal wif  #sxsw {link}\n",
      "\n",
      "Cхожесть: 0.25724787771376323\n",
      "Just what America needs. RT @mention Google to Launch Major New Social Network Called Circles, Possibly Today {link} #sxsw\n",
      "\n",
      "Cхожесть: 0.25724787771376323\n",
      "Gotta love this #SXSW Google Calendar featuring top parties/ show cases to check out.  RT @hamsandwich via @ischafer =&gt;http://bit.ly/aXZwxB\n",
      "\n",
      "Cхожесть: 0.25724787771376323\n",
      "Reminder: Charles Chen will be talking about Android and ChromeOS access today @mention 1PM @mention the Google booth in Exhibit Hall 3. #sxsw\n",
      "\n",
      "Cхожесть: 0.2504897164340598\n",
      "Check! RT @mention giving added value to location based services needs to battle check-in fatigue #google #pnid #sxsw\n",
      "\n",
      "Cхожесть: 0.2504897164340598\n",
      "Anyone at #sxsw want to make a quick hundred dollars? New #ipad2 from ad hoc apple store here gets hundred plus cost!\n",
      "\n",
      "Cхожесть: 0.2504897164340598\n",
      "At #SXSW, Apple schools the marketing experts | CNET - {link}\n",
      "\n",
      "Cхожесть: 0.2504897164340598\n",
      "Seriously #sxsw? Did you do any testing on the mobile apps? Constant iPad crashes causing lost schedules, and no sync for WP7.\n",
      "\n",
      "Cхожесть: 0.2504897164340598\n",
      "‰ЫП@mention &quot;Apple has opened a pop-up store in Austin so the nerds in town for #SXSW can get their new iPads. {link} #wow\n",
      "\n",
      "Cхожесть: 0.24253562503633297\n",
      ".@mention &quot;Google launched checkins a month ago.&quot; Check ins are ok, but CHECK OUTS are the future. #sxsw #Bizzy (via @mention\n",
      "\n",
      "Cхожесть: 0.24253562503633297\n",
      "The #sxsw Apple Popup Store is open at noon, has a fresh shipment of iPad 2's, and I'm pretty sure I'm going to get one. [fingers crossed]\n",
      "\n",
      "Cхожесть: 0.24253562503633297\n",
      "I meant I also wish I  at #SXSW #dyac stupid iPhone!\n",
      "\n",
      "Cхожесть: 0.24253562503633297\n",
      ".@mention 1154 free songs from #SXSW (this year alone!) {link}\n",
      "\n",
      "Cхожесть: 0.24253562503633297\n",
      "Wandering 6th street with the girls. Stopped for ceviche, mojitos, apple juice &amp; ice cream. #sxsw\n",
      "\n",
      "Cхожесть: 0.23529411764705888\n",
      "GSD&amp;M and Google.....sitting in a tree {link} #sxsw #gsdm\n",
      "\n",
      "Cхожесть: 0.23008949665421108\n",
      "Does your #SmallBiz need reviews to play on Google Places...We got an App for that..{link}  #seo #sxsw\n",
      "\n",
      "Cхожесть: 0.23008949665421108\n",
      "@mention  and here's a pic of you winning your ipad! #unsix #sxsw cc @mention @mention  {link} (cont) {link}\n",
      "\n",
      "Cхожесть: 0.23008949665421108\n",
      "GSD&amp;M + Google 7-10. RT @mention What's the best party to hit tonight? #sxsw @mention @mention\n",
      "\n",
      "Cхожесть: 0.23008949665421108\n",
      "(The iPad 2 queue at #sxsw of course\n",
      "\n",
      "Cхожесть: 0.2286647801900118\n",
      "Shouts to all the ladies holding up their iPad 2's at free #sxsw shows to take photos while sipping free beer. /cc: @mention\n",
      "\n",
      "Cхожесть: 0.2193817272381392\n",
      "Oh. My. God. The #SXSW app for iPad is pure, unadulterated awesome. It's easier to browse events on iPad than on the website!!!\n",
      "\n",
      "Cхожесть: 0.2193817272381392\n",
      "Agree. RT @mention Wait. FIONA APPLE is in town??? Somebody kidnap her and put her in a recording studio until she records a new album. #sxsw\n",
      "\n",
      "Cхожесть: 0.2193817272381392\n",
      "‰ЫП@mention @mention #Google Will Connect the Digital &amp; Physical Worlds Through Mobile - {link} #sxsw‰Ыќ @mention\n",
      "\n",
      "Cхожесть: 0.21004201260420152\n",
      "iPad apps are just like software development in that once you release it, you have to start working on the update. #sxsw\n",
      "\n",
      "Cхожесть: 0.21004201260420152\n",
      "XMAS!! RT @mention Shiny new @mention @mention @mention apps, a new @garyvee book, pop-up iPad 2 stores... #SXSW is Christmas for nerds.\n",
      "\n",
      "Cхожесть: 0.21004201260420152\n",
      "‰ЫП@mention @mention talking about {link} - Google's effort to allow users to have open systems #bettercloud #sxsw‰Ыќ\n",
      "\n",
      "Cхожесть: 0.20683507599800766\n",
      "Not to be a rumor monger, but this was a good read е_ #Google #Circles preview @mention #sxsw {link} by @mention via @mention #socbiz #fb\n",
      "\n",
      "Cхожесть: 0.2022886949696694\n",
      "‰ЫП@mention Apple is a great example of a retail store layed out for the future - no 'registers' no 'checkout line'  #sxsw\n",
      "\n",
      "Cхожесть: 0.20180183819889375\n",
      "Holler Gram for iPad on the iTunes App Store -  http://t.co/kfN3f5Q (via @marc_is_ken) #sxsw\n",
      "\n",
      "Cхожесть: 0.20180183819889375\n",
      "Temporary apple store opens at 5pm at 6th and congress. Line already growing. #iPad - view.io {link} via @mention #sxsw\n",
      "\n",
      "Cхожесть: 0.20180183819889375\n",
      "Temporary Apple store at #sxsw - huge line. {link}\n",
      "\n",
      "Cхожесть: 0.20180183819889375\n",
      "Check out 5 Steps to Bulletproof UX Strategy at SXSW\n",
      "{link} #SXSW #rhjr_ux5  {link}\n",
      "\n",
      "Cхожесть: 0.1944611170656494\n",
      "tools for collaboration across boundaries ~ google, webex, dropbox, whiteboarding, basecamp, join.me, ipad #sxsw #evolvingworkplace\n",
      "\n",
      "Cхожесть: 0.1944611170656494\n",
      "Just took a piss at the trade show, iPad in one hand, iPhone in the other. Pissing. I am KIIIIIILLING it right now. #sxsw\n",
      "\n",
      "Cхожесть: 0.1944611170656494\n",
      "Brilliant and enlightening game mechanics presentation by @mention from Google #SXSW\n",
      "\n",
      "Cхожесть: 0.1944611170656494\n",
      "@mention  - False Alarm: Google Circles Not Coming Now‰ЫТand Probably Not Ever? - {link} #Google #Circles #Social #SXSW\n",
      "\n",
      "Cхожесть: 0.1878672873255448\n",
      "New buzz? &quot;@mention Google to Launch Major New Social Network Called Circles, Possibly Today {link} rt @mention #sxsw&quot;\n",
      "\n",
      "Cхожесть: 0.1878672873255448\n",
      "Hoot! New Blog post: HootSuite Mobile for #SXSW ~ Updates for iPhone, BlackBerry &amp; Android {link}\n",
      "\n",
      "Cхожесть: 0.1878672873255448\n",
      "Great for certain meetings. RT @mention Hello, Holler Gram, our new iPad app {link} #hollergram #sxsw\n",
      "\n",
      "Cхожесть: 0.1878672873255448\n",
      "Temporary apple store for #sxsw, line goes around the block {link}\n",
      "\n",
      "Cхожесть: 0.1878672873255448\n",
      "You spent $1,000+ to come to SXSW. \n",
      "\n",
      "You've already used iPad 1. \n",
      "\n",
      "The wait is a couple city blocks. \n",
      "\n",
      "Why? #ipad2 #SXSW {link}\n",
      "\n",
      "Cхожесть: 0.1833396994056422\n",
      "Do it. RT @mention Come party w/ Google tonight at #sxsw! {link} - Bands, food, art, ice cream, nifty interactive maps!\n",
      "\n",
      "Cхожесть: 0.1819017187772497\n",
      "Long line at Apple Pop up store for iPad 2. Great marketing, Apple. #SXSW\n",
      "\n",
      "Cхожесть: 0.1819017187772497\n",
      "Temporary Apple Store being set up for #SXSW... shit now the temptation is going to be out of control.\n",
      "\n",
      "Cхожесть: 0.1819017187772497\n",
      "Beautiful #sxsw (@mention Apple Store, SXSW) [pic]: {link}\n",
      "\n",
      "Cхожесть: 0.1819017187772497\n",
      "knackered at home playing with ipad and updating iphone. but timeline smashed with partytweets can't make me go to bed.. #sxsw\n",
      "\n",
      "Cхожесть: 0.1819017187772497\n",
      "ipad2 and #sxsw...a conflagration of doofusness.  {link}\n",
      "\n",
      "Cхожесть: 0.17647058823529416\n",
      "Apple won #SxSW from day one. Seeing a TON of #iPad2\n",
      "\n",
      "Cхожесть: 0.17149858514250882\n",
      "Questions about what's inside the iPad 2? Fire them my way. #sxsw\n",
      "\n",
      "Cхожесть: 0.16269784336399207\n",
      "Temporary #sxsw apple store. Apple being sneaky as usual  {link}\n",
      "\n",
      "Cхожесть: 0.16169041669088857\n",
      "At #SXSW, #Apple schools the #marketing experts | SXSW - CNET Blogs {link}\n",
      "\n",
      "Cхожесть: 0.15512630699850571\n",
      "The queue at the apple pop-up store #sxsw {link}\n",
      "\n",
      "Cхожесть: 0.15512630699850571\n",
      "It's like 10pm at night and there is a line around the block at the popup apple stores selling iPad2s. #sxsw\n",
      "\n",
      "Cхожесть: 0.14625448482542613\n",
      "Cus!\n",
      "It's between pacman google, singularity or #sxsw noobs meetup\n",
      "\n",
      "Cхожесть: 0.14625448482542613\n",
      "Marc Ecko #SXSW launches #iPhone app. to autodial political change! {link} #edreform #edtech #eduVC #FightThePaddle\n",
      "\n",
      "Cхожесть: 0.14002800840280094\n",
      "Thanks to @mention for publishing the news of our new medical Apps in the #sxswi conf. blog {link} #sxsw #sxswh #mhealth\n",
      "\n",
      "Cхожесть: 0.14002800840280094\n",
      "So far my biggest #SXSW mistake is not bringing my iPhone/iPad charger\n",
      "\n",
      "Cхожесть: 0.14002800840280094\n",
      "impulsive buy = all your friends at #SXSW -&gt; I now have one too. Selling my 1st gen 32gb 3g iPad now\n",
      "\n",
      "Cхожесть: 0.13453455879926246\n",
      "I came in and left #sxsw with my iPhone playing the same song, chosen at random: Skream's Listening to the Records on my wall. Appropriate.\n",
      "\n",
      "Cхожесть: 0.13453455879926246\n",
      "@mention  #SXSW LonelyPlanet Austin guide for #iPhone is free for a limited time {link} #lp #travel\n",
      "\n",
      "Cхожесть: 0.13453455879926246\n",
      "&quot;You can Google Canadian Tuxedo and lose yourself for hours&quot; #sxsw\n",
      "\n",
      "Cхожесть: 0.13453455879926246\n",
      "‰ЫП@mention #sxsw beta testing interactive book for iPad app by Moonbot studios out of Louisiana.  Cool app.‰Ыќ\n",
      "\n",
      "Cхожесть: 0.13453455879926246\n",
      "‰ЫП@mention Apple store downtown Austin open til Midnight. #sxsw‰Ыќ any ipad2 left in stock?\n",
      "\n",
      "Cхожесть: 0.12964074471043285\n",
      "wooooo!!! ‰ЫП@mention Apple store downtown Austin open til Midnight. #sxsw‰Ыќ\n",
      "\n",
      "Cхожесть: 0.12964074471043285\n",
      "If ur not at the #google #aclu 80's party....u should be! #sxsw\n",
      "\n",
      "Cхожесть: 0.12964074471043285\n",
      "Google vs Bing on #bettersearch. Bing has a shot at success w/ structured search.  Potentially higher margin CPA model vs #Google. #SXSW\n",
      "\n",
      "Cхожесть: 0.1252448582170299\n",
      "Skifta is an app-based media shifting service that turns your Android phone into a ...  #sxsw #mashable #sxswi {link}\n",
      "\n",
      "Cхожесть: 0.12126781251816654\n",
      "‰ЫП@mention Are you Stupid? Find it out at the #sxsw on your Mac {link} for a special price! #games #Mac‰Ыќ\n",
      "\n",
      "Cхожесть: 0.12126781251816654\n",
      "Must have #SXSW app! RT @malbonster: Lovely review from Forbes for our SXSW iPad app Holler Gram - http://t.co/g4GZypV\n",
      "\n",
      "Cхожесть: 0.12126781251816654\n",
      "Anyone at #SXSW know if the apple store has had a new shipment of iPads yet?\n",
      "\n",
      "Cхожесть: 0.12126781251816654\n",
      "At #SXSW, Apple schools the marketing experts {link} via @mention\n",
      "\n",
      "Cхожесть: 0.11764705882352944\n",
      "Apple IIe ad in the '85 SI swimsuit issue at a garage sale #sxsw {link}\n",
      "\n",
      "Cхожесть: 0.11433239009500595\n",
      "Exciting, can‰ЫЄt wait! RT @mention Apple is opening up a temporary store in downtown Austin for #SXSW &amp; the iPad 2 launch {link}\n",
      "\n",
      "Cхожесть: 0.11433239009500595\n",
      "Attn: All  #SXSW frineds, @mention Register for #GDGTLive  and see Cobra iRadar for Android. {link}\n",
      "\n",
      "Cхожесть: 0.11128297681493149\n",
      "Temporary #apple store is def not a tent, it's a powerhouse gym #SXSW  {link}\n",
      "\n",
      "Cхожесть: 0.10846522890932808\n",
      "@swonderlin Can not wait for #iPad 2 also. They should sale them down at #SXSW.\n",
      "\n",
      "Cхожесть: 0.10846522890932808\n",
      "‰чј WHAT? ‰ч_ {link} ‰г_ #edchat #musedchat #sxsw #sxswi #classical #newTwitter\n",
      "\n",
      "Cхожесть: 0.10846522890932808\n",
      "BTW - The #sxsw Apple store is sold out of all 3G models (VZW &amp; AT&amp;T).\n",
      "\n",
      "Cхожесть: 0.10585122480499265\n",
      "I went to #sxswi and all I won was this lousy #iPad #sxsw :-) :-) {link}\n",
      "\n",
      "Cхожесть: 0.10585122480499265\n",
      "Headed to #Austin for #SXSW? Check out my map for newbies {link} @mention @mention , @mention @mention Enjoy!\n",
      "\n",
      "Cхожесть: 0.10502100630210076\n",
      "Thank you @mention for an awesome #sxsw party! {link}\n",
      "\n",
      "Cхожесть: 0.10341753799900377\n",
      "Thanks RT @mention If you're trying to contact friends or family in #Japan, @mention has created a person finder: {link} #SXSW\n",
      "\n",
      "Cхожесть: 0.10341753799900377\n",
      "Tomorrow, Charles Chen will be speaking about Android and ChromeOS access @mention the Google booth in Exhibit Hall 3 @mention 1PM #sxsw\n",
      "\n",
      "Cхожесть: 0.1011443474848347\n",
      "Yai!!! RT @mention New #UberSocial for #iPhone now in the App Store includes UberGuide to #SXSW sponsored by (cont) {link}\n",
      "\n"
     ]
    }
   ],
   "source": [
    "def similar_tweets(tweet_id:int, threshold:float, tweet_distance):\n",
    "    ans = []\n",
    "    \n",
    "    sorted_similarity = np.argsort(-tweet_distance[tweet_id,:])\n",
    "    \n",
    "    for index in sorted_similarity:\n",
    "        similarity = tweet_distance[tweet_id][index]\n",
    "        if similarity < threshold:\n",
    "            continue\n",
    "        ans.append((index, similarity))\n",
    "    return ans\n",
    "\n",
    "\n",
    "res = similar_tweets(14, 0.1, tweet_distance)\n",
    "\n",
    "for i in res:\n",
    "    print(f'Cхожесть: {i[1]}', df.iloc[sorted_similarity[i[0]]].tweet_text, sep='\\n', end='\\n\\n')"
   ]
  },
  {
   "cell_type": "code",
   "execution_count": null,
   "metadata": {},
   "outputs": [],
   "source": []
  }
 ],
 "metadata": {
  "kernelspec": {
   "display_name": "Python 3",
   "language": "python",
   "name": "python3"
  },
  "language_info": {
   "codemirror_mode": {
    "name": "ipython",
    "version": 3
   },
   "file_extension": ".py",
   "mimetype": "text/x-python",
   "name": "python",
   "nbconvert_exporter": "python",
   "pygments_lexer": "ipython3",
   "version": "3.8.3"
  }
 },
 "nbformat": 4,
 "nbformat_minor": 4
}
